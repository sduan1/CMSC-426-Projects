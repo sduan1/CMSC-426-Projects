{
 "cells": [
  {
   "cell_type": "code",
   "execution_count": 1,
   "metadata": {},
   "outputs": [],
   "source": [
    "import numpy as np\n",
    "import cv2"
   ]
  },
  {
   "cell_type": "code",
   "execution_count": 2,
   "metadata": {},
   "outputs": [],
   "source": [
    "def imregionalmax(image, kernel=None):\n",
    "    \"\"\"Find the regional max of the image. An approximation of MATLAB's\n",
    "    imregionalmax function. Result only differs when surrounding pixels\n",
    "    have the same value as the center.\n",
    "\n",
    "    Parameters:\n",
    "    - image: the input image\n",
    "    - kernel: the size of the neiborhood region, default is 3x3, i.e.\n",
    "              neighboring 8 pixels.\n",
    "    Returns:\n",
    "    - a bitmask image, where '1' indicates local maxima.\n",
    "    Author:\n",
    "    - Yu Fang\n",
    "    References:\n",
    "    - https://github.com/bhardwajvijay/Utils/blob/master/utils.cpp\n",
    "    - https://stackoverflow.com/questions/5550290/find-local-maxima-in-grayscale-image-using-opencv\n",
    "    \"\"\"\n",
    "    # dialate the image so that small values are replaced by local max\n",
    "    local_max = cv2.dilate(image, kernel)\n",
    "    # non-local max pixels (excluding pixel w/ constant 3x3 neighborhood)\n",
    "    # will be replaced by local max, so the values will increase. remove them.\n",
    "    # so the result is either local max or constant neighborhood.\n",
    "    max_mask = image >= local_max\n",
    "    # erode the image so that high values are replaced by local min\n",
    "    local_min = cv2.erode(image, kernel)\n",
    "    # only local min pixels and pixels w/ constant 3x3 neighborhood\n",
    "    # will stay the same, otherwise pixels will be replaced by the local\n",
    "    # min and become smaller. We only take non-local min, non-constant values.\n",
    "    min_mask = image > local_min\n",
    "    # boolean logic hack\n",
    "    #   (local max || constant) && (!local min && !constant)\n",
    "    # = local max && !local min && !constant\n",
    "    # = local max && !constant\n",
    "    return (max_mask & min_mask).astype(np.uint8)"
   ]
  },
  {
   "cell_type": "code",
   "execution_count": 3,
   "metadata": {},
   "outputs": [],
   "source": [
    "def est_homography(src, dest):\n",
    "    \"\"\" Compute the homography matrix from (x_src, y_src) to (x_dest, y_dest).\n",
    "    Parameters:\n",
    "    - src: (x,y) coordinates of N source pixels, where coordinates are row vectors,\n",
    "           so the matrix has dimension Nx2 (N>=4).\n",
    "    - dest: (x,y) coordinates of N destination pixels, where coordinates are row vectors,\n",
    "            so the matrix has dimension Nx2 (N>=4).\n",
    "    Returns:\n",
    "    - the homography matrix such that H @ [x_src, y_src, 1].T = [x_dest, y_dest, 1].T\n",
    "    Author:\n",
    "    - Yu Fang\n",
    "    \"\"\"\n",
    "    N = src.shape[0]\n",
    "    if N != dest.shape[0]:\n",
    "        raise ValueError(\"src and diff should have the same dimension\")\n",
    "    src_h = np.hstack((src, np.ones((N, 1))))\n",
    "    A = np.array([np.block([[src_h[n], np.zeros(3), -dest[n, 0] * src_h[n]],\n",
    "                            [np.zeros(3), src_h[n], -dest[n, 1] * src_h[n]]])\n",
    "                  for n in range(N)]).reshape(2 * N, 9)\n",
    "    [_, _, V] = np.linalg.svd(A)\n",
    "    # take the right singular vector x corresponding to the least singular value\n",
    "    # s.t. ||Ax - 0||^2 is minimized\n",
    "    return V.T[:, 8].reshape(3, 3)"
   ]
  },
  {
   "cell_type": "code",
   "execution_count": 4,
   "metadata": {},
   "outputs": [],
   "source": [
    "def apply_homography(H, src):\n",
    "    \"\"\" Apply the homography H to src\n",
    "    Parameters:\n",
    "    - H: the 3x3 homography matrix\n",
    "    - src: (x,y) coordinates of N source pixels, where coordinates are row vectors,\n",
    "           so the matrix has dimension Nx2 (N>=4).\n",
    "    Returns:\n",
    "    - src: (x,y) coordinates of N destination pixels, where coordinates are row vectors,\n",
    "           so the matrix has dimension Nx2 (N>=4).\n",
    "    Author:\n",
    "    - Yu Fang\n",
    "    \"\"\"\n",
    "    src_h = np.hstack((src, np.ones((src.shape[0], 1))))\n",
    "    dest =  src_h @ H.T\n",
    "    return (dest / dest[:,[2]])[:,0:2]"
   ]
  },
  {
   "cell_type": "code",
   "execution_count": 5,
   "metadata": {},
   "outputs": [],
   "source": [
    "def drawMatches(image1, kp1, image2, kp2, idx_pairs):\n",
    "    \"\"\"A wrapper around OpenCV's drawMatches.\n",
    "    \n",
    "    Parameters:\n",
    "    - image1: the first image\n",
    "    - kp1: *matrix indices* of the keypoints from image 1\n",
    "           (Nx2 numpy array, where N is the number of keypoints)\n",
    "    - image2: the second image\n",
    "    - kp2: *matrix indices* of the keypoints from image 2 \n",
    "           (Nx2 numpy array, where N is the number of keypoints)\n",
    "    - idx_pairs: pairs of matching indices, e.g. if kp1[3] \n",
    "                 matches kp2[5], then idx_pairs=[[3,5],...]\n",
    "                 (Kx2 numpy array, where K is the number of matches)\n",
    "    Returns:\n",
    "    - an image showing matching points\n",
    "    Author:\n",
    "    - Yu Fang\n",
    "    \"\"\"\n",
    "    # note that the coordinates are reversed because the difference\n",
    "    # between matrix indexing & coordinates.\n",
    "    keypt1 = [cv2.KeyPoint(coord[1], coord[0], 40) for coord in kp1.tolist()]\n",
    "    keypt2 = [cv2.KeyPoint(coord[1], coord[0], 40) for coord in kp2.tolist()]\n",
    "    matches = [cv2.DMatch(pair[0], pair[1], 0) for pair in idx_pairs.tolist()]\n",
    "    return cv2.drawMatches(image1, keypt1, image2, keypt2, matches, None, flags=cv2.DrawMatchesFlags_NOT_DRAW_SINGLE_POINTS)"
   ]
  },
  {
   "cell_type": "code",
   "execution_count": 6,
   "metadata": {},
   "outputs": [
    {
     "name": "stdout",
     "output_type": "stream",
     "text": [
      "A:\n",
      "[[10. 10. 10. 10. 10. 10. 10. 10. 10. 10.]\n",
      " [10. 22. 22. 22. 10. 10. 10. 44. 10. 10.]\n",
      " [10. 22. 22. 22. 10. 10. 10. 10. 45. 10.]\n",
      " [10. 22. 22. 22. 10. 10. 10. 10. 10. 44.]\n",
      " [10. 10. 10. 10. 10. 10. 10. 10. 10. 10.]\n",
      " [10. 10. 10. 10. 10. 33. 33. 33. 10. 10.]\n",
      " [10. 10. 10. 10. 10. 33. 33. 33. 10. 10.]\n",
      " [10. 10. 10. 10. 10. 33. 33. 33. 10. 10.]\n",
      " [10. 10. 10. 10. 10. 10. 10. 10. 10. 10.]\n",
      " [10. 10. 10. 10. 10. 10. 10. 10. 10. 10.]]\n",
      "regionmal max:\n",
      "[[0 0 0 0 0 0 0 0 0 0]\n",
      " [0 1 1 1 0 0 0 0 0 0]\n",
      " [0 1 0 1 0 0 0 0 1 0]\n",
      " [0 1 1 1 0 0 0 0 0 0]\n",
      " [0 0 0 0 0 0 0 0 0 0]\n",
      " [0 0 0 0 0 1 1 1 0 0]\n",
      " [0 0 0 0 0 1 0 1 0 0]\n",
      " [0 0 0 0 0 1 1 1 0 0]\n",
      " [0 0 0 0 0 0 0 0 0 0]\n",
      " [0 0 0 0 0 0 0 0 0 0]]\n"
     ]
    }
   ],
   "source": [
    "# imregionalmax example (remove this block in the final submission)\n",
    "A = 10 * np.ones((10, 10))\n",
    "A[1:4, 1:4] = 22\n",
    "A[5:8, 5:8] = 33\n",
    "A[1, 7] = 44\n",
    "A[2, 8] = 45\n",
    "A[3, 9] = 44\n",
    "print(f\"A:\\n{A}\")\n",
    "print(f\"regionmal max:\\n{imregionalmax(A)}\")"
   ]
  },
  {
   "cell_type": "code",
   "execution_count": 7,
   "metadata": {},
   "outputs": [
    {
     "name": "stdout",
     "output_type": "stream",
     "text": [
      "H:\n",
      "[[-7.00140042e-02 -7.00140042e-02 -7.00140042e-01]\n",
      " [-4.10327154e-15 -7.00140042e-02 -7.00140042e-01]\n",
      " [-3.67761377e-16  7.63278329e-16 -7.00140042e-02]]\n",
      "recover dest:\n",
      "[[10. 10.]\n",
      " [13. 10.]\n",
      " [12. 12.]\n",
      " [15. 12.]]\n"
     ]
    }
   ],
   "source": [
    "# homography example (remove this block in the final submission)\n",
    "src = np.array([\n",
    "    [0, 0],\n",
    "    [3, 0],\n",
    "    [0, 2],\n",
    "    [3, 2]\n",
    "])\n",
    "dest = np.array([\n",
    "    [10, 10],\n",
    "    [13, 10],\n",
    "    [12, 12],\n",
    "    [15, 12]\n",
    "])\n",
    "\n",
    "H = est_homography(src, dest)\n",
    "print(f\"H:\\n{H}\")\n",
    "dest2 = apply_homography(H, src)\n",
    "print(f\"recover dest:\\n{dest2}\")"
   ]
  }
 ],
 "metadata": {
  "kernelspec": {
   "display_name": "Python 3",
   "language": "python",
   "name": "python3"
  },
  "language_info": {
   "codemirror_mode": {
    "name": "ipython",
    "version": 3
   },
   "file_extension": ".py",
   "mimetype": "text/x-python",
   "name": "python",
   "nbconvert_exporter": "python",
   "pygments_lexer": "ipython3",
   "version": "3.7.4"
  }
 },
 "nbformat": 4,
 "nbformat_minor": 4
}
