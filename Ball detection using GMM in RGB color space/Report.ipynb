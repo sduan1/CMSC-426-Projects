{
 "cells": [
  {
   "cell_type": "markdown",
   "metadata": {},
   "source": [
    "# CMSC426, HW03, Shiyuan Duan, Report"
   ]
  },
  {
   "cell_type": "markdown",
   "metadata": {},
   "source": [
    "## Introduction"
   ]
  },
  {
   "cell_type": "markdown",
   "metadata": {},
   "source": [
    "In this project, we are implementing a color segmentation method by clustering color points in a RGB color space. The idea is that we fit a gaussian model or a GMM to the desired color, orange in this case, that is represented as a 3D point on a RGB color space. Then we use the trained GMM on the test-image to find the pixels that fits the GMM the most. Finally we will be looking for the distance from the object to the camera. There are several ways of doing it, in our case we will be using the object's area."
   ]
  },
  {
   "cell_type": "markdown",
   "metadata": {},
   "source": [
    "## Obtaining training data"
   ]
  },
  {
   "cell_type": "markdown",
   "metadata": {},
   "source": [
    "We are obtaining our training dataset by croping the pixels that represent the orange ball and collect them into a csv file(ball.csv). This can be done by executing crop.py"
   ]
  },
  {
   "cell_type": "markdown",
   "metadata": {},
   "source": [
    "## Single Gaussian Model"
   ]
  },
  {
   "cell_type": "markdown",
   "metadata": {},
   "source": [
    "When it comes to problems like clusering data points, it is usually done by gaussian models. The simplest model is a single gaussian model on a 3D color space."
   ]
  },
  {
   "cell_type": "markdown",
   "metadata": {},
   "source": [
    "However, in this case, the data points are not clustered in a way that the entire dataset can be well described by a single gaussian modle. Even though most of the data points are captured but there is still a significant amount of data points that are not captured by the single Gaussian model. In order to strenthen our algrithm, we have to use a GMM to descirbe our data set"
   ]
  },
  {
   "cell_type": "markdown",
   "metadata": {},
   "source": [
    "## Gaussian Mixture Model"
   ]
  },
  {
   "cell_type": "markdown",
   "metadata": {},
   "source": [
    "We use the code from HW02 to contruct a gaussian mixture model to describe our dataset. The initialization methods are the same and discussed in the code and the only difference is that instead of using 3 gaussian models we will be using 7 gaussian models. With 7 gaussian models we can successfully describe the entire dataset with our GMM. However, there are limitations to this methods. One of the most notable limitation is that, since we are representing each pixel on a RGB color space and cluster them, our algrithm is only sensitive to colors. "
   ]
  },
  {
   "cell_type": "markdown",
   "metadata": {},
   "source": [
    "## Estimating distance"
   ]
  },
  {
   "cell_type": "markdown",
   "metadata": {},
   "source": [
    "Since we have a GMM that describes the color of the orange ball, what we can do is to set a cut-off and supress every pixel that has a low p-value according to our model. The idea is that we want to make every pixel thats not on the ball black and make the ball white. Then we can calculate the area of our ball. Given that there's a quadratic relationship between the area and the distance, we can fit our training set onto a linear regression model and estimate distance in the test set."
   ]
  },
  {
   "cell_type": "markdown",
   "metadata": {},
   "source": [
    "## Conclusion and limitations"
   ]
  },
  {
   "cell_type": "markdown",
   "metadata": {},
   "source": [
    "We can see with a gaussian mixture model we can successfully cluster colors. This algrithm is really strong however it also has some limitations. For example one of the limitations is that it is really sensitive to color. The object must have distinctively different color from the backgroud color. Also my test result shows that, if the image is really blurry, this alghrithm failes to capture it's true area because only the part in the middle is captured and the boundary is blury so it is not included in the area. This will cause our algrithm fail to capture the object even though it is in the image. This is what happend to test image 2. Even I could capture the orange ball in test image 3, I falsely identified it's distance because only the center part of the ball is captured so the algrithm will think that the ball is small so it is far away from the camera."
   ]
  }
 ],
 "metadata": {
  "kernelspec": {
   "display_name": "Python 3",
   "language": "python",
   "name": "python3"
  },
  "language_info": {
   "codemirror_mode": {
    "name": "ipython",
    "version": 3
   },
   "file_extension": ".py",
   "mimetype": "text/x-python",
   "name": "python",
   "nbconvert_exporter": "python",
   "pygments_lexer": "ipython3",
   "version": "3.7.4"
  }
 },
 "nbformat": 4,
 "nbformat_minor": 2
}
